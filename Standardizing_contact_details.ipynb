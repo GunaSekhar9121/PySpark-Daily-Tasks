{
 "cells": [
  {
   "cell_type": "code",
   "execution_count": 1,
   "id": "9e90068a-ef42-4379-b945-4279dfc0922d",
   "metadata": {},
   "outputs": [],
   "source": [
    "from pyspark.sql import SparkSession"
   ]
  },
  {
   "cell_type": "code",
   "execution_count": 2,
   "id": "e715597f-d44d-49e8-b4f1-75e684590097",
   "metadata": {},
   "outputs": [
    {
     "name": "stderr",
     "output_type": "stream",
     "text": [
      "WARNING: Using incubator modules: jdk.incubator.vector\n",
      "Using Spark's default log4j profile: org/apache/spark/log4j2-defaults.properties\n",
      "25/08/20 14:35:37 WARN Utils: Your hostname, GUNAs-MacBook-Air.local, resolves to a loopback address: 127.0.0.1; using 10.0.0.190 instead (on interface en0)\n",
      "25/08/20 14:35:37 WARN Utils: Set SPARK_LOCAL_IP if you need to bind to another address\n",
      "Using Spark's default log4j profile: org/apache/spark/log4j2-defaults.properties\n",
      "Setting default log level to \"WARN\".\n",
      "To adjust logging level use sc.setLogLevel(newLevel). For SparkR, use setLogLevel(newLevel).\n",
      "25/08/20 14:35:47 WARN NativeCodeLoader: Unable to load native-hadoop library for your platform... using builtin-java classes where applicable\n",
      "25/08/20 14:35:47 WARN Utils: Service 'SparkUI' could not bind on port 4040. Attempting port 4041.\n"
     ]
    }
   ],
   "source": [
    "spark = SparkSession.builder\\\n",
    ".appName('Standardizing_ContactDetails')\\\n",
    ".getOrCreate()"
   ]
  },
  {
   "cell_type": "code",
   "execution_count": 17,
   "id": "3fe7612d-9800-4e8a-8067-ec1364b6ff56",
   "metadata": {},
   "outputs": [],
   "source": [
    "df = spark.read.option(\"header\", True).csv(\"us_customer_data 2.csv\")"
   ]
  },
  {
   "cell_type": "code",
   "execution_count": 18,
   "id": "66e7c3e8-c938-4c71-a873-7537b5abb6a4",
   "metadata": {},
   "outputs": [],
   "source": [
    "from pyspark.sql.functions import *"
   ]
  },
  {
   "cell_type": "code",
   "execution_count": 20,
   "id": "f56c6ae6-f838-494f-8516-8fdeeeb73d3f",
   "metadata": {},
   "outputs": [],
   "source": [
    "# 3. Cleaning first and last names\n",
    "df = df.withColumn(\"name\", initcap(trim(col(\"name\"))))"
   ]
  },
  {
   "cell_type": "code",
   "execution_count": 21,
   "id": "595a52af-f2c5-400e-9f4a-769125c1e2bd",
   "metadata": {},
   "outputs": [],
   "source": [
    "# 4. Standardize phone number: keep only digits, add \"+1-\" if US\n",
    "df = df.withColumn(\"phone\", regexp_replace(col(\"phone\"), \"[^0-9]\", \"\")) \\\n",
    "       .withColumn(\"phone\", when(col(\"phone\") != \"\", concat_ws(\"-\", lit(\"+1\"), col(\"phone\")))\n",
    "                            .otherwise(col(\"phone\")))"
   ]
  },
  {
   "cell_type": "code",
   "execution_count": 22,
   "id": "acb92bc5-5ec1-4f3d-a464-4ff6636b751c",
   "metadata": {},
   "outputs": [],
   "source": [
    "df = df.withColumn(\"email\", when(\n",
    "    (col(\"email\").isNull()) | (col(\"email\") == \"\"),\n",
    "    concat_ws(\"\", lower(regexp_replace(col(\"name\"), \" \", \"\")), lit(\"@company.com\"))\n",
    ").otherwise(lower(trim(col(\"email\")))))"
   ]
  },
  {
   "cell_type": "code",
   "execution_count": 23,
   "id": "4c39ff38-b86f-4523-a3ef-fc1a1c0f082e",
   "metadata": {},
   "outputs": [],
   "source": [
    "df = df.withColumn(\"address\", trim(col(\"address\")))"
   ]
  },
  {
   "cell_type": "code",
   "execution_count": 27,
   "id": "ca64d7a1-916d-4948-a5cb-48cb0338943f",
   "metadata": {},
   "outputs": [],
   "source": [
    "final_df = df.select(\n",
    "    \"customer_id\", \"name\", \"email\", \"phone\", \"address\", \"registration_date\", \"loyalty_status\")\n"
   ]
  },
  {
   "cell_type": "code",
   "execution_count": 28,
   "id": "7fcfe31f-8fe0-4a86-bd37-e3adf559c63c",
   "metadata": {},
   "outputs": [
    {
     "name": "stdout",
     "output_type": "stream",
     "text": [
      "+-----------+--------------------+--------------------+--------------------+--------------------+-----------------+--------------+\n",
      "|customer_id|                name|               email|               phone|             address|registration_date|loyalty_status|\n",
      "+-----------+--------------------+--------------------+--------------------+--------------------+-----------------+--------------+\n",
      "|          1|       Michelle Kidd|  vayala@example.net|                NULL|USNS Santiago, FP...|       2025-01-25|          Gold|\n",
      "|          2|         Brad Newton|taylorcatherine@e...|    +1-7595188536738|38783 Oliver Stre...|       2023-07-13|        Silver|\n",
      "|          3|        Larry Torres|dsanchez@example.net|+1-00132352530949...|6845 Steele Turnp...|       2023-08-18|        Bronze|\n",
      "|          4|      Kimberly Price|jessicaknight@exa...|+1-00194763342240...|1631 Alexis Meado...|       2024-12-08|          Gold|\n",
      "|          5|    Matthew Phillips|qwilliams@example...|+1-00186965056828385|2274 Williams Hei...|       2024-02-03|          Gold|\n",
      "|          6|Darrell Gallagher...|larryharris@examp...|  +1-197147563698486|19887 Brandon Bri...|       2025-03-03|        Bronze|\n",
      "|          7|        Louis Miller|patriciaelliott@e...| +1-0014189314146588|02590 Marshall We...|       2024-09-30|          Gold|\n",
      "|          8| Melissa Galloway Md|watsonbenjamin@ex...|      +1-15939483872|209 Steven Oval A...|       2023-10-06|        Bronze|\n",
      "|          9|      Matthew Harvey| bgaines@example.net|       +1-7108544550|60123 Davis Ford,...|       2024-10-31|        Silver|\n",
      "|         10|        Rachel White|whitemichael@exam...| +1-0019207934515302|6182 Brown Mounta...|       2024-02-25|        Bronze|\n",
      "|         11|         Nicole Yang|archerheather@exa...|+1-00138562756767067|923 Emily Mills A...|       2025-03-08|        Bronze|\n",
      "|         12|   Christine Delgado|yfarrell@example.net|   +1-93220671958325|PSC 4025, Box 207...|       2024-04-18|        Bronze|\n",
      "|         13|      Joseph Brennan|khernandez@exampl...|       +1-5493564430|8890 Keller Hills...|       2024-04-28|          Gold|\n",
      "|         14|         Eric Thomas|spencer75@example...|+1-00135381764920...|352 Joel Extensio...|       2024-05-09|        Bronze|\n",
      "|         15|         Laura Perez|  sdavid@example.com|   +1-51190026814189|1518 Green Locks ...|       2024-12-04|          Gold|\n",
      "|         16|       Erin Matthews| uhunter@example.net|  +1-889275902461618|67623 Morgan Holl...|       2023-11-12|        Bronze|\n",
      "|         17|    Melissa Alvarado|parkjohn@example.net|   +1-13454785691220|USNS Austin, FPO ...|       2024-06-24|          Gold|\n",
      "|         18|     Mr. Ernest Dunn|kelseybrown@examp...|       +1-6209840256|3112 Lydia Freewa...|       2025-01-27|          Gold|\n",
      "|         19|       David Johnson|marynelson@exampl...|   +1-18479204578754|992 Harris Pines ...|       2025-02-21|        Silver|\n",
      "|         20|       Wayne Morales|qwilliams@example...|       +1-9568360130|15344 Hill Pike, ...|       2025-02-22|          Gold|\n",
      "+-----------+--------------------+--------------------+--------------------+--------------------+-----------------+--------------+\n",
      "only showing top 20 rows\n"
     ]
    }
   ],
   "source": [
    "final_df.show()"
   ]
  },
  {
   "cell_type": "code",
   "execution_count": null,
   "id": "d6683d11-ae1d-4ed4-a6d4-c535df3a2752",
   "metadata": {},
   "outputs": [],
   "source": []
  }
 ],
 "metadata": {
  "kernelspec": {
   "display_name": "Python (pyspark-env)",
   "language": "python",
   "name": "pyspark-env"
  },
  "language_info": {
   "codemirror_mode": {
    "name": "ipython",
    "version": 3
   },
   "file_extension": ".py",
   "mimetype": "text/x-python",
   "name": "python",
   "nbconvert_exporter": "python",
   "pygments_lexer": "ipython3",
   "version": "3.11.13"
  }
 },
 "nbformat": 4,
 "nbformat_minor": 5
}
