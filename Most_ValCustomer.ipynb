{
 "cells": [
  {
   "cell_type": "markdown",
   "id": "483ce086-41ff-4e4e-b8b9-f2d3ef9b690a",
   "metadata": {},
   "source": [
    "3. Filtering high-value transactions from a CSV file for targeted promotions.\n",
    "Tasks involved: Filtering, Cleaning\n",
    "Filtering: Selecting only records that meet specific criteria — in this case, high-value transactions (e.g., transactions above $1000) or mean value.\n",
    "Cleaning: Ensuring the transaction data is accurate and usable — removing rows with missing amounts, fixing number formats, etc.\n",
    "\n",
    "🟢 Goal: Identify and use only the most valuable customers or transactions for special promotions, such as VIP discounts or exclusive offers."
   ]
  },
  {
   "cell_type": "code",
   "execution_count": 90,
   "id": "8516322d-e7b9-4706-a670-df25653597b7",
   "metadata": {},
   "outputs": [],
   "source": [
    "#Getting the SparkSession\n",
    "\n",
    "from pyspark.sql import SparkSession"
   ]
  },
  {
   "cell_type": "code",
   "execution_count": 91,
   "id": "1cbd6e60-afd8-497f-a64d-7abbe84e5d25",
   "metadata": {},
   "outputs": [],
   "source": [
    "#Buidling the spark app\n",
    "spark = SparkSession.builder\\\n",
    ".appName(\"MostValuble_customers\")\\\n",
    ".getOrCreate()"
   ]
  },
  {
   "cell_type": "code",
   "execution_count": 92,
   "id": "5c2449ea-4497-4f4a-b638-1fe9f03114b6",
   "metadata": {},
   "outputs": [],
   "source": [
    "#Importing the first transactions file\n",
    "df_transactions = spark.read.option(\"header\",True).csv('transaction_data 1.csv')"
   ]
  },
  {
   "cell_type": "code",
   "execution_count": 93,
   "id": "90d1c698-7b93-4dcd-b1bf-4c3feb003991",
   "metadata": {},
   "outputs": [
    {
     "name": "stdout",
     "output_type": "stream",
     "text": [
      "root\n",
      " |-- transaction_id: string (nullable = true)\n",
      " |-- customer_id: string (nullable = true)\n",
      " |-- amount: string (nullable = true)\n",
      " |-- transaction_date: string (nullable = true)\n",
      " |-- product_category: string (nullable = true)\n",
      " |-- payment_method: string (nullable = true)\n",
      " |-- store_location: string (nullable = true)\n",
      "\n"
     ]
    }
   ],
   "source": [
    "#Checking the df_transactions data to check if there are any errors\n",
    "df_transactions.printSchema() "
   ]
  },
  {
   "cell_type": "markdown",
   "id": "4aaf9341-5808-49c2-b9f6-4db91b0a145d",
   "metadata": {},
   "source": [
    "From the above transactions dataset these are things we need to change \n",
    "1. we can see that amount column in the string we should conver into integer to perform any fileters\n",
    "2. transaction_date is in the date format we need to change it to date format\n",
    "3. we need to delete any rows with zero amounts because we can't consider them in our analysis and we can save lot much of computation time\n"
   ]
  },
  {
   "cell_type": "code",
   "execution_count": 94,
   "id": "6e78aa6e-f028-4baa-823e-d2a7af166c3f",
   "metadata": {},
   "outputs": [],
   "source": [
    "df_customers = spark.read.option(\"header\",True).csv('us_customer_data 2.csv')"
   ]
  },
  {
   "cell_type": "code",
   "execution_count": 95,
   "id": "6f83165a-26c8-4384-aeb8-9387abae28ff",
   "metadata": {},
   "outputs": [
    {
     "name": "stdout",
     "output_type": "stream",
     "text": [
      "root\n",
      " |-- customer_id: string (nullable = true)\n",
      " |-- name: string (nullable = true)\n",
      " |-- email: string (nullable = true)\n",
      " |-- phone: string (nullable = true)\n",
      " |-- address: string (nullable = true)\n",
      " |-- registration_date: string (nullable = true)\n",
      " |-- loyalty_status: string (nullable = true)\n",
      "\n"
     ]
    }
   ],
   "source": [
    "df_customers.printSchema()"
   ]
  },
  {
   "cell_type": "code",
   "execution_count": 96,
   "id": "1b42c6f3-812d-4084-a2fd-1db59e66cb2a",
   "metadata": {},
   "outputs": [
    {
     "data": {
      "text/plain": [
       "1000"
      ]
     },
     "execution_count": 96,
     "metadata": {},
     "output_type": "execute_result"
    }
   ],
   "source": [
    "#Cleaning the transactions tables\n",
    "df_transactions.distinct().count() "
   ]
  },
  {
   "cell_type": "code",
   "execution_count": 97,
   "id": "8a943b0a-a737-45e0-9ef7-e1299013368a",
   "metadata": {},
   "outputs": [
    {
     "data": {
      "text/plain": [
       "1000"
      ]
     },
     "execution_count": 97,
     "metadata": {},
     "output_type": "execute_result"
    }
   ],
   "source": [
    "df_transactions.count()"
   ]
  },
  {
   "cell_type": "code",
   "execution_count": 98,
   "id": "cfe76650-0fde-4b06-828e-80884c794fda",
   "metadata": {},
   "outputs": [],
   "source": [
    "from pyspark.sql.functions import*"
   ]
  },
  {
   "cell_type": "code",
   "execution_count": 99,
   "id": "5be09497-f168-4a92-8ecd-f824aba8390e",
   "metadata": {},
   "outputs": [],
   "source": [
    "null_count = df_transactions.filter(col(\"amount\").isNull()).count()"
   ]
  },
  {
   "cell_type": "code",
   "execution_count": 100,
   "id": "80b1b049-25b5-4a76-86b0-8b29755e3bea",
   "metadata": {},
   "outputs": [
    {
     "data": {
      "text/plain": [
       "50"
      ]
     },
     "execution_count": 100,
     "metadata": {},
     "output_type": "execute_result"
    }
   ],
   "source": [
    "null_count"
   ]
  },
  {
   "cell_type": "code",
   "execution_count": 101,
   "id": "95136fa6-f796-426b-b4ee-f7e5e36d404f",
   "metadata": {},
   "outputs": [
    {
     "name": "stdout",
     "output_type": "stream",
     "text": [
      "+--------------+-----------+------+-------------------+----------------+--------------+--------------+\n",
      "|transaction_id|customer_id|amount|   transaction_date|product_category|payment_method|store_location|\n",
      "+--------------+-----------+------+-------------------+----------------+--------------+--------------+\n",
      "|             4|         19|  NULL|2025-04-30 15:26:23|          Sports|    Debit Card|   Los Angeles|\n",
      "|            14|        579|  NULL|2025-04-16 20:54:47|            Home|          Cash|        Online|\n",
      "|            24|        184|  NULL|2025-02-27 13:58:05|          Beauty|    Debit Card|   Los Angeles|\n",
      "|            26|        744|  NULL|2025-04-23 02:38:39|          Beauty|        PayPal|      New York|\n",
      "|            34|        838|  NULL|2025-01-30 22:27:45|        Clothing|          Cash|   Los Angeles|\n",
      "|           104|        928|  NULL|2025-04-20 02:32:07|          Beauty|          Cash|      New York|\n",
      "|           110|        632|  NULL|2025-02-17 13:45:29|          Sports|          Cash|      New York|\n",
      "|           154|        184|  NULL|2025-04-01 12:35:51|          Beauty|    Debit Card|       Chicago|\n",
      "|           218|        742|  NULL|2025-01-18 05:43:36|     Electronics|    Debit Card|   Los Angeles|\n",
      "|           272|        234|  NULL|2025-01-16 19:10:19|        Clothing|        PayPal|       Chicago|\n",
      "|           274|        905|  NULL|2025-01-28 06:11:04|          Beauty|        PayPal|       Chicago|\n",
      "|           293|        393|  NULL|2025-01-11 14:05:56|        Clothing|          Cash|       Chicago|\n",
      "|           299|        381|  NULL|2025-02-11 02:37:54|          Sports|   Credit Card|       Chicago|\n",
      "|           301|         13|  NULL|2025-03-18 04:40:03|          Beauty|    Debit Card|       Chicago|\n",
      "|           327|        796|  NULL|2025-01-06 15:05:08|     Electronics|        PayPal|   Los Angeles|\n",
      "|           351|         90|  NULL|2025-04-21 01:00:10|        Clothing|   Credit Card|   Los Angeles|\n",
      "|           353|        121|  NULL|2025-03-13 17:36:15|            Home|        PayPal|      New York|\n",
      "|           358|        147|  NULL|2025-02-05 10:02:32|          Beauty|          Cash|   Los Angeles|\n",
      "|           364|        980|  NULL|2025-01-30 11:32:51|            Home|          Cash|      New York|\n",
      "|           397|        834|  NULL|2025-02-22 03:01:13|     Electronics|          Cash|      New York|\n",
      "+--------------+-----------+------+-------------------+----------------+--------------+--------------+\n",
      "only showing top 20 rows\n"
     ]
    }
   ],
   "source": [
    "df_transactions.filter(col(\"amount\").isNull()).show() "
   ]
  },
  {
   "cell_type": "code",
   "execution_count": 102,
   "id": "dacc0f07-2fd8-4c5b-8193-62eae8030a7f",
   "metadata": {},
   "outputs": [],
   "source": [
    "#Considering not null amount rows\n",
    "df_transations_clean = df_transactions.filter(col(\"amount\").isNotNull())"
   ]
  },
  {
   "cell_type": "code",
   "execution_count": 103,
   "id": "4a0c3165-24ab-422c-90ac-65cc9eb87c11",
   "metadata": {},
   "outputs": [
    {
     "data": {
      "text/plain": [
       "950"
      ]
     },
     "execution_count": 103,
     "metadata": {},
     "output_type": "execute_result"
    }
   ],
   "source": [
    "df_transations_clean.count()"
   ]
  },
  {
   "cell_type": "code",
   "execution_count": 104,
   "id": "1e2b0432-2483-47b9-a9b4-b2a9a16d14dd",
   "metadata": {},
   "outputs": [],
   "source": [
    "from pyspark.sql.types import*"
   ]
  },
  {
   "cell_type": "code",
   "execution_count": null,
   "id": "f1559aa3-481d-4b0c-bdba-5a60ad24c750",
   "metadata": {},
   "outputs": [],
   "source": []
  },
  {
   "cell_type": "code",
   "execution_count": null,
   "id": "04b02de8-1bce-4d87-a8da-42391f0d494e",
   "metadata": {},
   "outputs": [],
   "source": []
  },
  {
   "cell_type": "code",
   "execution_count": 105,
   "id": "b480261b-c97d-4cf3-b913-501d8ce231d9",
   "metadata": {},
   "outputs": [],
   "source": [
    "#As we already what we did for the first csv file which is customers so doing the same process \n",
    "df_customers = df_customers.withColumn(\"clean_phone\", regexp_replace(\"phone\", r\"x\\d+\", \"\")) \\\n",
    "       .withColumn(\"clean_phone\", regexp_replace(\"clean_phone\", r\"\\D\", \"\")) \\\n",
    "       .withColumn(\"valid_phone\", when(length(\"clean_phone\") >= 10, col(\"clean_phone\")).otherwise(lit(None)))"
   ]
  },
  {
   "cell_type": "code",
   "execution_count": 106,
   "id": "7fd9bf15-d2bf-4557-a4bd-2df2a88ea3e7",
   "metadata": {},
   "outputs": [],
   "source": [
    "df_customers= df_customers.withColumn(\"registration_date\",col(\"registration_date\").cast(DateType()))"
   ]
  },
  {
   "cell_type": "code",
   "execution_count": 107,
   "id": "20b160e8-d700-4a65-9640-4657ccaa9862",
   "metadata": {},
   "outputs": [],
   "source": [
    "df_customers_clean = df_customers.select(\"customer_id\",\"name\",\"email\",\"valid_phone\",\"address\",\"registration_date\",\"loyalty_status\")"
   ]
  },
  {
   "cell_type": "code",
   "execution_count": 108,
   "id": "97e8e77e-66aa-48ca-b932-824ecd165a6c",
   "metadata": {},
   "outputs": [
    {
     "name": "stdout",
     "output_type": "stream",
     "text": [
      "root\n",
      " |-- customer_id: string (nullable = true)\n",
      " |-- name: string (nullable = true)\n",
      " |-- email: string (nullable = true)\n",
      " |-- valid_phone: string (nullable = true)\n",
      " |-- address: string (nullable = true)\n",
      " |-- registration_date: date (nullable = true)\n",
      " |-- loyalty_status: string (nullable = true)\n",
      "\n"
     ]
    }
   ],
   "source": [
    "df_customers_clean.printSchema()"
   ]
  },
  {
   "cell_type": "code",
   "execution_count": 109,
   "id": "e2f1e491-bd3f-4666-80af-c998bab91233",
   "metadata": {},
   "outputs": [
    {
     "name": "stdout",
     "output_type": "stream",
     "text": [
      "root\n",
      " |-- transaction_id: string (nullable = true)\n",
      " |-- customer_id: string (nullable = true)\n",
      " |-- amount: string (nullable = true)\n",
      " |-- transaction_date: string (nullable = true)\n",
      " |-- product_category: string (nullable = true)\n",
      " |-- payment_method: string (nullable = true)\n",
      " |-- store_location: string (nullable = true)\n",
      "\n"
     ]
    }
   ],
   "source": [
    "df_transations_clean.printSchema()"
   ]
  },
  {
   "cell_type": "code",
   "execution_count": 110,
   "id": "4fb99310-d550-4ce2-b28a-0d3b01684561",
   "metadata": {},
   "outputs": [],
   "source": [
    "df_transations_clean = df_transations_clean.withColumn(\"amount\", expr(\"try_cast(amount as double)\"))"
   ]
  },
  {
   "cell_type": "code",
   "execution_count": 111,
   "id": "0dce1f72-a404-4279-91aa-e3de7b8235ea",
   "metadata": {},
   "outputs": [],
   "source": [
    "df_merge = df_customers_clean.join(df_transations_clean,on=\"customer_id\",how=\"inner\")"
   ]
  },
  {
   "cell_type": "code",
   "execution_count": 112,
   "id": "c16cf543-168c-42f3-b8e5-767186290c08",
   "metadata": {},
   "outputs": [
    {
     "name": "stdout",
     "output_type": "stream",
     "text": [
      "root\n",
      " |-- customer_id: string (nullable = true)\n",
      " |-- name: string (nullable = true)\n",
      " |-- email: string (nullable = true)\n",
      " |-- valid_phone: string (nullable = true)\n",
      " |-- address: string (nullable = true)\n",
      " |-- registration_date: date (nullable = true)\n",
      " |-- loyalty_status: string (nullable = true)\n",
      " |-- transaction_id: string (nullable = true)\n",
      " |-- amount: double (nullable = true)\n",
      " |-- transaction_date: string (nullable = true)\n",
      " |-- product_category: string (nullable = true)\n",
      " |-- payment_method: string (nullable = true)\n",
      " |-- store_location: string (nullable = true)\n",
      "\n"
     ]
    }
   ],
   "source": [
    "df_merge.printSchema()"
   ]
  },
  {
   "cell_type": "code",
   "execution_count": 116,
   "id": "c50a4179-dd6e-45ed-9f42-953db83a5165",
   "metadata": {},
   "outputs": [
    {
     "data": {
      "text/plain": [
       "950"
      ]
     },
     "execution_count": 116,
     "metadata": {},
     "output_type": "execute_result"
    }
   ],
   "source": [
    "df_merge.count()"
   ]
  },
  {
   "cell_type": "code",
   "execution_count": 135,
   "id": "ba45b827-1c2c-4c5e-b2fc-4ee18b06dfa3",
   "metadata": {},
   "outputs": [],
   "source": [
    "df_Filtered_Customer_1000 = df_merge.filter((col(\"amount\").cast(IntegerType()))>1000)"
   ]
  },
  {
   "cell_type": "code",
   "execution_count": 141,
   "id": "4295a5fe-f4f5-444d-8b38-ed513b466056",
   "metadata": {},
   "outputs": [
    {
     "name": "stdout",
     "output_type": "stream",
     "text": [
      "+-----------+-----------------+--------------------+-------------+--------------------+-----------------+--------------+--------------+-------+-------------------+----------------+--------------+--------------+\n",
      "|customer_id|             name|               email|  valid_phone|             address|registration_date|loyalty_status|transaction_id| amount|   transaction_date|product_category|payment_method|store_location|\n",
      "+-----------+-----------------+--------------------+-------------+--------------------+-----------------+--------------+--------------+-------+-------------------+----------------+--------------+--------------+\n",
      "|          1|    Michelle Kidd|  vayala@example.net|         NULL|USNS Santiago, FP...|       2025-01-25|          Gold|             8|2652.57|2025-04-19 14:46:00|            Home|   Credit Card|      New York|\n",
      "|          4|   Kimberly Price|jessicaknight@exa...|0019476334224|1631 Alexis Meado...|       2024-12-08|          Gold|           427|1787.09|2025-04-28 04:34:07|          Beauty|        PayPal|       Chicago|\n",
      "|          5| Matthew Phillips|qwilliams@example...|0018696505682|2274 Williams Hei...|       2024-02-03|          Gold|           452|1983.52|2025-02-03 14:59:13|          Sports|        PayPal|        Online|\n",
      "|          7|     Louis Miller|patriciaelliott@e...|0014189314146|02590 Marshall We...|       2024-09-30|          Gold|           470|3241.66|2025-05-15 15:17:05|     Electronics|        PayPal|   Los Angeles|\n",
      "|         10|     Rachel White|whitemichael@exam...|0019207934515|6182 Brown Mounta...|       2024-02-25|        Bronze|           548|2954.52|2025-05-21 22:54:54|          Sports|    Debit Card|         Miami|\n",
      "|         10|     Rachel White|whitemichael@exam...|0019207934515|6182 Brown Mounta...|       2024-02-25|        Bronze|           173|3456.05|2025-04-15 19:26:48|            Home|    Debit Card|        Online|\n",
      "|         12|Christine Delgado|yfarrell@example.net|   9322067195|PSC 4025, Box 207...|       2024-04-18|        Bronze|           126|3696.64|2025-02-15 19:59:56|          Beauty|          Cash|        Online|\n",
      "|         15|      Laura Perez|  sdavid@example.com|   5119002681|1518 Green Locks ...|       2024-12-04|          Gold|           504|3194.72|2025-06-01 14:13:06|          Beauty|    Debit Card|        Online|\n",
      "|         17| Melissa Alvarado|parkjohn@example.net|  13454785691|USNS Austin, FPO ...|       2024-06-24|          Gold|           681|4752.12|2025-05-31 10:50:45|          Sports|          Cash|         Miami|\n",
      "|         17| Melissa Alvarado|parkjohn@example.net|  13454785691|USNS Austin, FPO ...|       2024-06-24|          Gold|           374|2445.23|2025-02-18 22:07:41|            Home|   Credit Card|       Chicago|\n",
      "|         18|  Mr. Ernest Dunn|kelseybrown@examp...|   6209840256|3112 Lydia Freewa...|       2025-01-27|          Gold|           570|2929.47|2025-03-18 13:34:29|          Beauty|   Credit Card|         Miami|\n",
      "|         19|    David Johnson|marynelson@exampl...|  18479204578|992 Harris Pines ...|       2025-02-21|        Silver|           546|1600.94|2025-03-24 15:39:10|          Beauty|    Debit Card|        Online|\n",
      "|         19|    David Johnson|marynelson@exampl...|  18479204578|992 Harris Pines ...|       2025-02-21|        Silver|            99|4361.19|2025-05-27 16:17:17|     Electronics|   Credit Card|       Chicago|\n",
      "|         20|    Wayne Morales|qwilliams@example...|   9568360130|15344 Hill Pike, ...|       2025-02-22|          Gold|           874|3934.82|2025-05-04 10:16:59|          Sports|   Credit Card|        Online|\n",
      "|         20|    Wayne Morales|qwilliams@example...|   9568360130|15344 Hill Pike, ...|       2025-02-22|          Gold|           291| 3402.3|2025-03-24 02:17:33|     Electronics|        PayPal|         Miami|\n",
      "|         21|  Michael Vincent|jonesjeffrey@exam...|   7656844638|455 Moore Orchard...|       2024-06-13|        Silver|           176|4674.53|2025-02-25 15:55:18|        Clothing|   Credit Card|         Miami|\n",
      "|         23|  Marisa Martinez|   zward@example.org|   3925177127|5029 Wall Mountai...|       2025-03-29|        Bronze|           442|1908.49|2025-04-21 01:10:46|          Beauty|    Debit Card|        Online|\n",
      "|         24| Crystal Peterson|taylorcharles@exa...|   9642809583|Unit 5741 Box 112...|       2023-08-07|        Bronze|           717| 4292.9|2025-03-18 08:24:05|            Home|          Cash|   Los Angeles|\n",
      "|         24| Crystal Peterson|taylorcharles@exa...|   9642809583|Unit 5741 Box 112...|       2023-08-07|        Bronze|           141|1164.89|2025-06-05 09:17:17|        Clothing|    Debit Card|       Chicago|\n",
      "|         26|     James Graham|chawkins@example.net|   9698000025|2809 Young Square...|       2024-03-10|          Gold|           868|3378.58|2025-04-27 11:24:04|        Clothing|    Debit Card|   Los Angeles|\n",
      "+-----------+-----------------+--------------------+-------------+--------------------+-----------------+--------------+--------------+-------+-------------------+----------------+--------------+--------------+\n",
      "only showing top 20 rows\n"
     ]
    }
   ],
   "source": [
    "df_Filtered_Customer_1000.show()"
   ]
  },
  {
   "cell_type": "code",
   "execution_count": null,
   "id": "3b922621-7b1f-4984-bfe2-bcd0323fe941",
   "metadata": {},
   "outputs": [],
   "source": []
  }
 ],
 "metadata": {
  "kernelspec": {
   "display_name": "Python (pyspark-env)",
   "language": "python",
   "name": "pyspark-env"
  },
  "language_info": {
   "codemirror_mode": {
    "name": "ipython",
    "version": 3
   },
   "file_extension": ".py",
   "mimetype": "text/x-python",
   "name": "python",
   "nbconvert_exporter": "python",
   "pygments_lexer": "ipython3",
   "version": "3.11.13"
  }
 },
 "nbformat": 4,
 "nbformat_minor": 5
}
