{
 "cells": [
  {
   "cell_type": "code",
   "execution_count": 2,
   "id": "141a25c2-20cd-41e6-8ceb-86700eb47237",
   "metadata": {},
   "outputs": [],
   "source": [
    "from pyspark.sql import SparkSession"
   ]
  },
  {
   "cell_type": "code",
   "execution_count": 6,
   "id": "382f38e3-dd07-4e8e-a616-94dcdc1ee39f",
   "metadata": {},
   "outputs": [
    {
     "name": "stderr",
     "output_type": "stream",
     "text": [
      "WARNING: Using incubator modules: jdk.incubator.vector\n",
      "Using Spark's default log4j profile: org/apache/spark/log4j2-defaults.properties\n",
      "25/08/20 13:20:20 WARN Utils: Your hostname, GUNAs-MacBook-Air.local, resolves to a loopback address: 127.0.0.1; using 10.0.0.190 instead (on interface en0)\n",
      "25/08/20 13:20:20 WARN Utils: Set SPARK_LOCAL_IP if you need to bind to another address\n",
      "Using Spark's default log4j profile: org/apache/spark/log4j2-defaults.properties\n",
      "Setting default log level to \"WARN\".\n",
      "To adjust logging level use sc.setLogLevel(newLevel). For SparkR, use setLogLevel(newLevel).\n",
      "25/08/20 13:20:20 WARN NativeCodeLoader: Unable to load native-hadoop library for your platform... using builtin-java classes where applicable\n"
     ]
    }
   ],
   "source": [
    "spark = SparkSession.builder\\\n",
    "    .appName('Cleaned_Customer_Date')\\\n",
    "        .getOrCreate()"
   ]
  },
  {
   "cell_type": "code",
   "execution_count": 10,
   "id": "4f0adc20-d094-4be0-bad7-62bc6436c91c",
   "metadata": {},
   "outputs": [],
   "source": [
    "#Loading the Data from csv file\n",
    "df = spark.read.option(\"header\",True).csv(\"us_customer_data 2.csv\")"
   ]
  },
  {
   "cell_type": "code",
   "execution_count": 11,
   "id": "9b662113-3a62-47af-831e-c785c90486e0",
   "metadata": {},
   "outputs": [
    {
     "name": "stdout",
     "output_type": "stream",
     "text": [
      "root\n",
      " |-- customer_id: string (nullable = true)\n",
      " |-- name: string (nullable = true)\n",
      " |-- email: string (nullable = true)\n",
      " |-- phone: string (nullable = true)\n",
      " |-- address: string (nullable = true)\n",
      " |-- registration_date: string (nullable = true)\n",
      " |-- loyalty_status: string (nullable = true)\n",
      "\n"
     ]
    }
   ],
   "source": [
    "df.printSchema()"
   ]
  },
  {
   "cell_type": "code",
   "execution_count": 14,
   "id": "b178af87-b873-453d-b491-e5cdc312726f",
   "metadata": {},
   "outputs": [
    {
     "data": {
      "text/plain": [
       "[Row(customer_id='1', name='Michelle Kidd', email='vayala@example.net', phone=None, address='USNS Santiago, FPO AE 80872', registration_date='2025-01-25', loyalty_status='Gold'),\n",
       " Row(customer_id='2', name='Brad Newton', email='taylorcatherine@example.net', phone='(759)518-8536x738', address='38783 Oliver Street, West Kristenborough, MT 99752', registration_date='2023-07-13', loyalty_status='Silver')]"
      ]
     },
     "execution_count": 14,
     "metadata": {},
     "output_type": "execute_result"
    }
   ],
   "source": [
    "df.head(2)"
   ]
  },
  {
   "cell_type": "code",
   "execution_count": 16,
   "id": "2f55a5b3-ea56-4f90-a540-924c5989eda6",
   "metadata": {},
   "outputs": [
    {
     "name": "stdout",
     "output_type": "stream",
     "text": [
      "+-----------+---------------------+---------------------------+----------------------+--------------------------------------------------------+-----------------+--------------+\n",
      "|customer_id|name                 |email                      |phone                 |address                                                 |registration_date|loyalty_status|\n",
      "+-----------+---------------------+---------------------------+----------------------+--------------------------------------------------------+-----------------+--------------+\n",
      "|1          |Michelle Kidd        |vayala@example.net         |NULL                  |USNS Santiago, FPO AE 80872                             |2025-01-25       |Gold          |\n",
      "|2          |Brad Newton          |taylorcatherine@example.net|(759)518-8536x738     |38783 Oliver Street, West Kristenborough, MT 99752      |2023-07-13       |Silver        |\n",
      "|3          |Larry Torres         |dsanchez@example.net       |001-323-525-3094x96062|6845 Steele Turnpike, West Erikabury, UT 37487          |2023-08-18       |Bronze        |\n",
      "|4          |Kimberly Price       |jessicaknight@example.com  |001-947-633-4224x07930|1631 Alexis Meadows, Lake Amanda, CA 75179              |2024-12-08       |Gold          |\n",
      "|5          |Matthew Phillips     |qwilliams@example.com      |001-869-650-5682x8385 |2274 Williams Heights Suite 895, Andersonhaven, OR 80565|2024-02-03       |Gold          |\n",
      "|6          |Darrell Gallagher DVM|larryharris@example.org    |+1-971-475-6369x8486  |19887 Brandon Bridge, New Rebecca, MA 94947             |2025-03-03       |Bronze        |\n",
      "|7          |Louis Miller         |patriciaelliott@example.org|001-418-931-4146x588  |02590 Marshall Well, Sheppardland, CT 88067             |2024-09-30       |Gold          |\n",
      "|8          |Melissa Galloway MD  |watsonbenjamin@example.net |+1-593-948-3872       |209 Steven Oval Apt. 022, Mollyhaven, NC 10211          |2023-10-06       |Bronze        |\n",
      "|9          |Matthew Harvey       |bgaines@example.net        |(710)854-4550         |60123 Davis Ford, Mistychester, WA 69400                |2024-10-31       |Silver        |\n",
      "|10         |Rachel White         |whitemichael@example.org   |001-920-793-4515x302  |6182 Brown Mountain, South Gary, IL 29016               |2024-02-25       |Bronze        |\n",
      "|11         |Nicole Yang          |archerheather@example.org  |001-385-627-5676x7067 |923 Emily Mills Apt. 281, Port Roy, WI 03921            |2025-03-08       |Bronze        |\n",
      "|12         |Christine Delgado    |yfarrell@example.net       |932.206.7195x8325     |PSC 4025, Box 2078, APO AA 61121                        |2024-04-18       |Bronze        |\n",
      "|13         |Joseph Brennan       |khernandez@example.com     |549-356-4430          |8890 Keller Hills, North Paul, FM 64749                 |2024-04-28       |Gold          |\n",
      "|14         |Eric Thomas          |spencer75@example.com      |001-353-817-6492x04270|352 Joel Extension Suite 962, New Anthony, CO 33299     |2024-05-09       |Bronze        |\n",
      "|15         |Laura Perez          |sdavid@example.com         |511.900.2681x4189     |1518 Green Locks Suite 348, New Brent, FM 51849         |2024-12-04       |Gold          |\n",
      "|16         |Erin Matthews        |uhunter@example.net        |889-275-9024x61618    |67623 Morgan Hollow, Hillshire, IL 78665                |2023-11-12       |Bronze        |\n",
      "|17         |Melissa Alvarado     |parkjohn@example.net       |+1-345-478-5691x220   |USNS Austin, FPO AP 52643                               |2024-06-24       |Gold          |\n",
      "|18         |Mr. Ernest Dunn      |kelseybrown@example.net    |6209840256            |3112 Lydia Freeway Suite 927, South Susan, RI 11726     |2025-01-27       |Gold          |\n",
      "|19         |David Johnson        |marynelson@example.org     |+1-847-920-4578x754   |992 Harris Pines Suite 049, North Marychester, PW 73177 |2025-02-21       |Silver        |\n",
      "|20         |Wayne Morales        |qwilliams@example.com      |956-836-0130          |15344 Hill Pike, Matthewport, FL 45434                  |2025-02-22       |Gold          |\n",
      "+-----------+---------------------+---------------------------+----------------------+--------------------------------------------------------+-----------------+--------------+\n",
      "only showing top 20 rows\n"
     ]
    }
   ],
   "source": [
    "df.show(truncate = False)"
   ]
  },
  {
   "cell_type": "code",
   "execution_count": 17,
   "id": "7f386f75-438b-4df6-a32e-f812f30f0bd9",
   "metadata": {},
   "outputs": [
    {
     "name": "stdout",
     "output_type": "stream",
     "text": [
      "+-----------+----------------+--------------------+--------------------+--------------------+-----------------+--------------+\n",
      "|customer_id|            name|               email|               phone|             address|registration_date|loyalty_status|\n",
      "+-----------+----------------+--------------------+--------------------+--------------------+-----------------+--------------+\n",
      "|          1|   Michelle Kidd|  vayala@example.net|                NULL|USNS Santiago, FP...|       2025-01-25|          Gold|\n",
      "|          2|     Brad Newton|taylorcatherine@e...|   (759)518-8536x738|38783 Oliver Stre...|       2023-07-13|        Silver|\n",
      "|          3|    Larry Torres|dsanchez@example.net|001-323-525-3094x...|6845 Steele Turnp...|       2023-08-18|        Bronze|\n",
      "|          4|  Kimberly Price|jessicaknight@exa...|001-947-633-4224x...|1631 Alexis Meado...|       2024-12-08|          Gold|\n",
      "|          5|Matthew Phillips|qwilliams@example...|001-869-650-5682x...|2274 Williams Hei...|       2024-02-03|          Gold|\n",
      "+-----------+----------------+--------------------+--------------------+--------------------+-----------------+--------------+\n",
      "only showing top 5 rows\n"
     ]
    }
   ],
   "source": [
    "df.show(5)"
   ]
  },
  {
   "cell_type": "code",
   "execution_count": 19,
   "id": "fe4f27e7-574e-47d8-8ac3-c394068a2d4a",
   "metadata": {},
   "outputs": [
    {
     "name": "stdout",
     "output_type": "stream",
     "text": [
      "+-----------+----------------+---------------------------+----------------------+--------------------------------------------------------+-----------------+--------------+\n",
      "|customer_id|name            |email                      |phone                 |address                                                 |registration_date|loyalty_status|\n",
      "+-----------+----------------+---------------------------+----------------------+--------------------------------------------------------+-----------------+--------------+\n",
      "|1          |Michelle Kidd   |vayala@example.net         |NULL                  |USNS Santiago, FPO AE 80872                             |2025-01-25       |Gold          |\n",
      "|2          |Brad Newton     |taylorcatherine@example.net|(759)518-8536x738     |38783 Oliver Street, West Kristenborough, MT 99752      |2023-07-13       |Silver        |\n",
      "|3          |Larry Torres    |dsanchez@example.net       |001-323-525-3094x96062|6845 Steele Turnpike, West Erikabury, UT 37487          |2023-08-18       |Bronze        |\n",
      "|4          |Kimberly Price  |jessicaknight@example.com  |001-947-633-4224x07930|1631 Alexis Meadows, Lake Amanda, CA 75179              |2024-12-08       |Gold          |\n",
      "|5          |Matthew Phillips|qwilliams@example.com      |001-869-650-5682x8385 |2274 Williams Heights Suite 895, Andersonhaven, OR 80565|2024-02-03       |Gold          |\n",
      "+-----------+----------------+---------------------------+----------------------+--------------------------------------------------------+-----------------+--------------+\n",
      "only showing top 5 rows\n"
     ]
    }
   ],
   "source": [
    "df.show(5,truncate=False)"
   ]
  },
  {
   "cell_type": "code",
   "execution_count": 26,
   "id": "76a5d96a-f9e7-461d-b7f3-7046a03bb3f0",
   "metadata": {
    "scrolled": true
   },
   "outputs": [
    {
     "data": {
      "text/plain": [
       "1000"
      ]
     },
     "execution_count": 26,
     "metadata": {},
     "output_type": "execute_result"
    }
   ],
   "source": [
    "rows = df.count()\n",
    "rows"
   ]
  },
  {
   "cell_type": "code",
   "execution_count": 27,
   "id": "0b08f5d3-f4c9-4a85-9035-506ec6dee96d",
   "metadata": {},
   "outputs": [],
   "source": [
    "distinct_rows = df.distinct().count()"
   ]
  },
  {
   "cell_type": "code",
   "execution_count": 28,
   "id": "b1ffd0aa-387e-4237-80f3-a5954e131c73",
   "metadata": {},
   "outputs": [
    {
     "data": {
      "text/plain": [
       "1000"
      ]
     },
     "execution_count": 28,
     "metadata": {},
     "output_type": "execute_result"
    }
   ],
   "source": [
    "distinct_rows"
   ]
  },
  {
   "cell_type": "code",
   "execution_count": 29,
   "id": "400f60e9-66c8-45b4-8ea7-3142f7f26622",
   "metadata": {},
   "outputs": [],
   "source": [
    "#From the above we can see that there are no duplicates in the data but for the safety we can drop the duplicate=s from the data\n",
    "# Step 1: Deduplicate\n",
    "df = df.dropDuplicates([\"customer_id\"])"
   ]
  },
  {
   "cell_type": "code",
   "execution_count": 30,
   "id": "d1e87ca1-6d75-4cf3-aa4f-5c1347e10db3",
   "metadata": {},
   "outputs": [
    {
     "data": {
      "text/plain": [
       "1000"
      ]
     },
     "execution_count": 30,
     "metadata": {},
     "output_type": "execute_result"
    }
   ],
   "source": [
    "df.count()"
   ]
  },
  {
   "cell_type": "code",
   "execution_count": 33,
   "id": "eea43ddf-4bd2-47ba-85fa-bd11997bce4e",
   "metadata": {},
   "outputs": [],
   "source": [
    "from pyspark.sql.functions import *\n",
    "from pyspark.sql.types import *"
   ]
  },
  {
   "cell_type": "code",
   "execution_count": 34,
   "id": "ae626402-7a5e-4737-ac0b-5ca7980c9c7c",
   "metadata": {},
   "outputs": [],
   "source": [
    "#The format of the phone number is incorrect so we need to replace those characters or un necessary values with empty\n",
    "# Step 2: Clean phone numbers\n",
    "df = df.withColumn(\"clean_phone\", regexp_replace(\"phone\", r\"x\\d+\", \"\")) \\\n",
    "       .withColumn(\"clean_phone\", regexp_replace(\"clean_phone\", r\"\\D\", \"\")) \\\n",
    "       .withColumn(\"valid_phone\", when(length(\"clean_phone\") >= 10, col(\"clean_phone\")).otherwise(lit(None)))\n"
   ]
  },
  {
   "cell_type": "code",
   "execution_count": 42,
   "id": "b1b3fdbd-e881-48c4-a942-097f22c7a2f8",
   "metadata": {},
   "outputs": [
    {
     "name": "stdout",
     "output_type": "stream",
     "text": [
      "+-----------+----------------+--------------------+-------------+-------------+\n",
      "|customer_id|            name|               email|  clean_phone|  valid_phone|\n",
      "+-----------+----------------+--------------------+-------------+-------------+\n",
      "|          1|   Michelle Kidd|  vayala@example.net|         NULL|         NULL|\n",
      "|         10|    Rachel White|whitemichael@exam...|0019207934515|0019207934515|\n",
      "|        100|     Aaron Irwin|  wdavis@example.org|  13235518227|  13235518227|\n",
      "|       1000|     Jason Walls|michael42@example...|   5773048260|   5773048260|\n",
      "|        101|      Amy Graham|nicolehorton@exam...|   8417222216|   8417222216|\n",
      "|        102|      Larry Hill|garrettrebecca@ex...|  14517023092|  14517023092|\n",
      "|        103|    Lindsey Ruiz|  yortiz@example.net|   8463062446|   8463062446|\n",
      "|        104|  Jacob Williams|                NULL|   4372542080|   4372542080|\n",
      "|        105|    Lisa Esparza| ygibson@example.org|   4925831364|   4925831364|\n",
      "|        106| Edward Williams| gjordan@example.com|   5093263595|   5093263595|\n",
      "|        107|  Robert Mercado|edward39@example.net|   3065699705|   3065699705|\n",
      "|        108|  Derrick Reeves|  john24@example.net|0018786788236|0018786788236|\n",
      "|        109|   Ana Singleton|butlerkrystal@exa...|   9878653798|   9878653798|\n",
      "|         11|     Nicole Yang|archerheather@exa...|0013856275676|0013856275676|\n",
      "|        110| Patricia Cooper|  jose29@example.org|   4053108673|   4053108673|\n",
      "|        111|     David Jones|   asoto@example.com|0013638324453|0013638324453|\n",
      "|        112|   Mary Mccarthy|wongjacqueline@ex...|   8417573574|   8417573574|\n",
      "|        113|    Trevor Brown| kevin61@example.net|   7562704520|   7562704520|\n",
      "|        114| Donald Anderson|adrian29@example.net|   9883665946|   9883665946|\n",
      "|        115|Elizabeth Adkins|rodriguezmatthew@...|0017855857339|0017855857339|\n",
      "+-----------+----------------+--------------------+-------------+-------------+\n",
      "only showing top 20 rows\n"
     ]
    }
   ],
   "source": [
    "df_selected = df.select(\"customer_id\", \"name\", \"email\",\"clean_phone\",\"valid_phone\")\n",
    "df_selected.show()\n"
   ]
  },
  {
   "cell_type": "code",
   "execution_count": 53,
   "id": "424cdc42-6a49-4057-85c9-4d0bb648454f",
   "metadata": {},
   "outputs": [],
   "source": [
    "#In the above we can see the registration_date column is a string so now we can cast it to date type\n",
    "df= df.withColumn(\"registration_date\",col(\"registration_date\").cast(DateType()))"
   ]
  },
  {
   "cell_type": "code",
   "execution_count": 54,
   "id": "0acfe222-1aa9-4693-a0f6-f55315a5e26f",
   "metadata": {},
   "outputs": [
    {
     "name": "stdout",
     "output_type": "stream",
     "text": [
      "root\n",
      " |-- customer_id: string (nullable = true)\n",
      " |-- name: string (nullable = true)\n",
      " |-- email: string (nullable = true)\n",
      " |-- phone: string (nullable = true)\n",
      " |-- address: string (nullable = true)\n",
      " |-- registration_date: date (nullable = true)\n",
      " |-- loyalty_status: string (nullable = true)\n",
      " |-- clean_phone: string (nullable = true)\n",
      " |-- valid_phone: string (nullable = true)\n",
      "\n"
     ]
    }
   ],
   "source": [
    "df.printSchema()"
   ]
  },
  {
   "cell_type": "code",
   "execution_count": 55,
   "id": "84f4153b-376e-41a0-8e0a-b53b0a68ab4c",
   "metadata": {},
   "outputs": [],
   "source": [
    "#In the dataset we can see for the string columns for name,email,adress,and some columns has the spaces at the start and at the end \n",
    "#so we can trim them now\n",
    "\n",
    "df = df.withColumn(\"name\", trim(col(\"name\"))) \\\n",
    "       .withColumn(\"email\", trim(lower(col(\"email\")))) \\\n",
    "       .withColumn(\"address\", trim(col(\"address\"))) \\\n",
    "       .withColumn(\"loyalty_status\", trim(col(\"loyalty_status\")))"
   ]
  },
  {
   "cell_type": "code",
   "execution_count": 56,
   "id": "99b7444b-19bc-4b3f-8c7d-29dbe66a8dab",
   "metadata": {},
   "outputs": [],
   "source": [
    "#The updated dataset is \n",
    "df = df.select(\"customer_id\",\"name\",\"email\",\"valid_phone\",\"address\",\"registration_date\",\"loyalty_status\")"
   ]
  },
  {
   "cell_type": "code",
   "execution_count": 57,
   "id": "b9a86fcd-bcbc-4d18-ab8b-140e118d86e8",
   "metadata": {},
   "outputs": [
    {
     "name": "stdout",
     "output_type": "stream",
     "text": [
      "+-----------+----------------+--------------------+-------------+--------------------+-----------------+--------------+\n",
      "|customer_id|            name|               email|  valid_phone|             address|registration_date|loyalty_status|\n",
      "+-----------+----------------+--------------------+-------------+--------------------+-----------------+--------------+\n",
      "|          1|   Michelle Kidd|  vayala@example.net|         NULL|USNS Santiago, FP...|       2025-01-25|          Gold|\n",
      "|         10|    Rachel White|whitemichael@exam...|0019207934515|6182 Brown Mounta...|       2024-02-25|        Bronze|\n",
      "|        100|     Aaron Irwin|  wdavis@example.org|  13235518227|4938 Natalie Cove...|       2024-06-15|        Bronze|\n",
      "|       1000|     Jason Walls|michael42@example...|   5773048260|95002 Bruce Rue, ...|       2024-12-10|        Bronze|\n",
      "|        101|      Amy Graham|nicolehorton@exam...|   8417222216|236 Robert Mall, ...|       2024-02-25|        Bronze|\n",
      "|        102|      Larry Hill|garrettrebecca@ex...|  14517023092|88672 Reyes Haven...|       2024-02-24|        Bronze|\n",
      "|        103|    Lindsey Ruiz|  yortiz@example.net|   8463062446|72026 Lisa Villag...|       2025-03-10|        Bronze|\n",
      "|        104|  Jacob Williams|                NULL|   4372542080|Unit 8694 Box 618...|       2024-07-10|        Silver|\n",
      "|        105|    Lisa Esparza| ygibson@example.org|   4925831364|2544 Martinez Cir...|       2025-01-13|        Silver|\n",
      "|        106| Edward Williams| gjordan@example.com|   5093263595|PSC 7243, Box 592...|       2024-04-18|        Bronze|\n",
      "|        107|  Robert Mercado|edward39@example.net|   3065699705|80709 David Green...|       2023-11-21|          Gold|\n",
      "|        108|  Derrick Reeves|  john24@example.net|0018786788236|6134 Henson Run, ...|       2023-09-04|          Gold|\n",
      "|        109|   Ana Singleton|butlerkrystal@exa...|   9878653798|9241 Chung Route,...|       2024-03-31|        Silver|\n",
      "|         11|     Nicole Yang|archerheather@exa...|0013856275676|923 Emily Mills A...|       2025-03-08|        Bronze|\n",
      "|        110| Patricia Cooper|  jose29@example.org|   4053108673|USNS Marshall, FP...|       2024-06-10|        Silver|\n",
      "|        111|     David Jones|   asoto@example.com|0013638324453|9445 Wells Mall, ...|       2023-10-11|        Silver|\n",
      "|        112|   Mary Mccarthy|wongjacqueline@ex...|   8417573574|3169 Smith Isle A...|       2025-04-24|        Silver|\n",
      "|        113|    Trevor Brown| kevin61@example.net|   7562704520|184 Cervantes Str...|       2024-05-27|        Silver|\n",
      "|        114| Donald Anderson|adrian29@example.net|   9883665946|332 James Village...|       2023-12-11|        Bronze|\n",
      "|        115|Elizabeth Adkins|rodriguezmatthew@...|0017855857339|7851 Ford Wells A...|       2025-03-08|        Bronze|\n",
      "+-----------+----------------+--------------------+-------------+--------------------+-----------------+--------------+\n",
      "only showing top 20 rows\n"
     ]
    },
    {
     "name": "stderr",
     "output_type": "stream",
     "text": [
      "                                                                                "
     ]
    }
   ],
   "source": [
    "df.show()"
   ]
  }
 ],
 "metadata": {
  "kernelspec": {
   "display_name": "Python (pyspark-env)",
   "language": "python",
   "name": "pyspark-env"
  },
  "language_info": {
   "codemirror_mode": {
    "name": "ipython",
    "version": 3
   },
   "file_extension": ".py",
   "mimetype": "text/x-python",
   "name": "python",
   "nbconvert_exporter": "python",
   "pygments_lexer": "ipython3",
   "version": "3.11.13"
  }
 },
 "nbformat": 4,
 "nbformat_minor": 5
}
